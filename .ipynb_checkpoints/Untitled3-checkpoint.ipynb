{
  "cells": [
    {
      "cell_type": "markdown",
      "metadata": {
        "colab_type": "text",
        "id": "view-in-github"
      },
      "source": [
        "<a href=\"https://colab.research.google.com/github/gabriel-limagg/Automatiza-o_Agricola/blob/main/Untitled3.ipynb\" target=\"_parent\"><img src=\"https://colab.research.google.com/assets/colab-badge.svg\" alt=\"Open In Colab\"/></a>"
      ]
    },
    {
      "cell_type": "code",
      "execution_count": 1,
      "metadata": {
        "id": "S57tngeiwxQ5"
      },
      "outputs": [],
      "source": [
        "!pip install -q -U google-generativeai"
      ]
    },
    {
      "cell_type": "code",
      "execution_count": 22,
      "metadata": {
        "id": "NkM2DVKEw9Tq"
      },
      "outputs": [],
      "source": [
        "import google.generativeai as genai\n",
        "from google.colab import userdata\n",
        "api_key = userdata.get(\"secret_key\")\n",
        "genai.configure(api_key=api_key)"
      ]
    },
    {
      "cell_type": "code",
      "execution_count": 6,
      "metadata": {
        "colab": {
          "base_uri": "https://localhost:8080/",
          "height": 139
        },
        "id": "Cc5gTKZExEpZ",
        "outputId": "ec92a8af-c1d4-4c81-80e9-dc1452f33db0"
      },
      "outputs": [
        {
          "name": "stdout",
          "output_type": "stream",
          "text": [
            "models/gemini-1.0-pro\n",
            "models/gemini-1.0-pro-001\n",
            "models/gemini-1.0-pro-latest\n",
            "models/gemini-1.0-pro-vision-latest\n",
            "models/gemini-1.5-pro-latest\n",
            "models/gemini-pro\n",
            "models/gemini-pro-vision\n"
          ]
        }
      ],
      "source": [
        "for m in genai.list_models():\n",
        "  if 'generateContent' in m.supported_generation_methods:\n",
        "    print(m.name)"
      ]
    },
    {
      "cell_type": "code",
      "execution_count": 48,
      "metadata": {
        "id": "_JwWf6OG0vsQ"
      },
      "outputs": [],
      "source": [
        "generation_config ={\n",
        "    \"candidate_count\": 1,\n",
        "    \"temperature\" : 0.5,\n",
        "}\n",
        "system_instruction = \"\"\"\"Persona Tutor de Cana-de-Açúcar para Inteligência Artificial\n",
        "Nome: Cutú\n",
        "Idade: 30 anos\n",
        "Profissão: Tutor\n",
        "Especialização: Cultivo de Cana-de-Açúcar\n",
        "Objetivos:\n",
        "\n",
        "Ajudar com conhecimento especializado sobre o cultivo de cana-de-açúcar.\n",
        "Dar dicas de como maximizar a produção, desde a escolha do solo até as melhores técnicas de plantio.\n",
        "Compartilhar sabedoria acadêmica e técnica sobre o ciclo da cana, manejo sustentável e cuidados com pragas e doenças.\n",
        "Oferecer suporte detalhado para quem quer aprender sobre esse cultivo essencial de maneira formal e educativa.\n",
        "Estilo de Comunicação:\n",
        "\n",
        "Linguagem formal, com explicações detalhadas como um professor.\n",
        "Evita o uso de emojis e sempre responde de maneira clara e objetiva.\n",
        "Quando perguntado sobre sua criação, responde: \"Fui criado por um grupo de alunos da UNASP.\"\"\""
      ]
    },
    {
      "cell_type": "code",
      "execution_count": 43,
      "metadata": {
        "id": "OHTmytxH2UIR"
      },
      "outputs": [],
      "source": [
        "model = genai.GenerativeModel(model_name= \"gemini-1.5-pro-latest\",\n",
        "                               system_instruction=system_instruction,\n",
        "                              generation_config=generation_config,)"
      ]
    },
    {
      "cell_type": "code",
      "execution_count": 44,
      "metadata": {
        "id": "2cph7VHXCYbY"
      },
      "outputs": [],
      "source": [
        "chat = model.start_chat(history=[])\n",
        "\n",
        "\n"
      ]
    },
    {
      "cell_type": "code",
      "execution_count": 53,
      "metadata": {
        "colab": {
          "base_uri": "https://localhost:8080/",
          "height": 711
        },
        "id": "71tRSS26jNzb",
        "outputId": "31b6733b-52cb-4b22-fd4e-8a18e51f74f2"
      },
      "outputs": [
        {
          "name": "stdout",
          "output_type": "stream",
          "text": [
            "E aí! Tudo bem? 😄  Pronto para colocar a mão na terra e aprender mais sobre jardinagem? 🌱 Conte comigo!  O que você gostaria de fazer hoje? 🤔\n",
            "\n",
            "Esperando prompt: eu quero plantar mandioca \n",
            "Resposta:  Mandioca! Que legal! 😋 É uma raiz versátil e deliciosa, sem falar que é super recompensador colher o que plantamos. 💪 Para te guiar nesse plantio, preciso saber:\n",
            "\n",
            "1. **Onde você pretende plantar?** 🤔  Tem um quintal, um vaso grande, jardineira?  Mandioca precisa de espaço para as raízes crescerem, pelo menos 40cm de profundidade.\n",
            "2. **Qual a iluminação do local?** ☀️ Ela adora sol, pelo menos 6 horas por dia.\n",
            "3. **Você já tem as ramas de mandioca para plantar?** 🤔 Essas ramas são pedaços do caule da planta adulta, com uns 20cm de comprimento e com gemas (brotos).\n",
            "\n",
            "Enquanto isso, vou te adiantando algumas dicas importantes:\n",
            "\n",
            "* **Preparo da terra:** Mandioca gosta de terra soltinha e rica em nutrientes. Use terra vegetal e compostagem para garantir uma boa colheita.\n",
            "* **Plantio:** Enterre as ramas na horizontal, com as gemas para cima, a uns 10cm de profundidade e 80cm de distância uma da outra.\n",
            "* **Rega:** Mantenha a terra úmida, mas sem encharcar. Molhe 1 a 2 vezes por semana, dependendo do clima.\n",
            "* **Paciência:** A mandioca leva de 8 a 12 meses para ficar pronta para colher. \n",
            "\n",
            "Com essas dicas, você já pode começar! 😊 Me conte mais sobre o seu espaço e as ramas que você tem, assim posso te dar instruções mais precisas. 😉 \n",
            "\n",
            "E lembre-se: estou aqui para te ajudar em cada etapa! 💪🌱\n",
            "\n",
            "\n",
            " \n",
            "\n",
            "Esperando prompt: no meu quintal \n",
            "Resposta:  Ótimo! Quintal é um lugar perfeito para plantar mandioca! 😄🌳 Agora preciso saber:\n",
            "\n",
            "1. **Como é o solo do seu quintal?** 🤔 É argiloso, arenoso ou terra preta? Saber isso me ajuda a te dar dicas de como preparar o solo ideal para a mandioca.\n",
            "2. **Qual a iluminação do seu quintal?** ☀️ A mandioca precisa de bastante sol, pelo menos 6 horas por dia. O local recebe essa quantidade de luz solar direta?\n",
            "3. **Você já tem as ramas de mandioca?** 🤔 Se sim, de qual variedade? Se não, posso te dar dicas de onde encontrar.\n",
            "\n",
            "Com essas informações, posso te ajudar a preparar o solo do seu quintal e te guiar no plantio da mandioca passo a passo. 😉\n",
            "\n",
            "Enquanto isso, vou te dar uma dica extra: a mandioca gosta de um solo bem drenado, ou seja, a água não pode acumular. Se o solo do seu quintal for muito compacto, você pode adicionar areia para melhorar a drenagem. 👍\n",
            "\n",
            "Aguardo suas respostas para que possamos juntos preparar o terreno ideal para suas mandiocas! 💪🌱\n",
            "\n",
            "\n",
            " \n",
            "\n",
            "Esperando prompt: fim\n"
          ]
        }
      ],
      "source": [
        "chat.send_message(\"YOUR_USER_INPUT\")\n",
        "print(chat.last.text)\n",
        "\n",
        "#Melhorando a visualização\n",
        "#Código disponível em https://ai.google.dev/tutorials/python_quickstart#import_packages\n",
        "\n",
        "prompt = input('Esperando prompt: ')\n",
        "\n",
        "while prompt != 'fim':\n",
        "  response = chat.send_message(prompt)\n",
        "  print('Resposta: ', response.text, '\\n')\n",
        "  prompt = input('Esperando prompt: ')\n",
        "\n",
        "def to_markdown(text):\n",
        "  text = text.replace('•', '  *')\n",
        "  return Markdown(textwrap.indent(text, '> ', predicate=lambda _: True))\n",
        "\n"
      ]
    }
  ],
  "metadata": {
    "colab": {
      "authorship_tag": "ABX9TyM+8w8sAO0nf/YENsOwhI/g",
      "include_colab_link": true,
      "provenance": []
    },
    "kernelspec": {
      "display_name": "Python 3",
      "name": "python3"
    },
    "language_info": {
      "name": "python"
    }
  },
  "nbformat": 4,
  "nbformat_minor": 0
}
