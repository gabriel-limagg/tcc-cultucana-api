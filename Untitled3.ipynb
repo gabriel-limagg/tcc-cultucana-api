{
 "cells": [
  {
   "cell_type": "markdown",
   "metadata": {
    "colab_type": "text",
    "id": "view-in-github"
   },
   "source": [
    "<a href=\"https://colab.research.google.com/github/gabriel-limagg/Automatiza-o_Agricola/blob/main/Untitled3.ipynb\" target=\"_parent\"><img src=\"https://colab.research.google.com/assets/colab-badge.svg\" alt=\"Open In Colab\"/></a>"
   ]
  },
  {
   "cell_type": "code",
   "execution_count": null,
   "metadata": {
    "id": "S57tngeiwxQ5"
   },
   "outputs": [],
   "source": [
    "!pip install -q -U google-generativeai"
   ]
  },
  {
   "cell_type": "code",
   "execution_count": null,
   "metadata": {
    "id": "NkM2DVKEw9Tq"
   },
   "outputs": [],
   "source": [
    "import google.generativeai as genai\n",
    "\n",
    "# Substitua por sua chave de API\n",
    "api_key = \"SUA_CHAVE\"\n",
    "genai.configure(api_key=api_key)"
   ]
  },
  {
   "cell_type": "code",
   "execution_count": null,
   "metadata": {
    "colab": {
     "base_uri": "https://localhost:8080/",
     "height": 139
    },
    "id": "Cc5gTKZExEpZ",
    "outputId": "ec92a8af-c1d4-4c81-80e9-dc1452f33db0"
   },
   "outputs": [],
   "source": [
    "for m in genai.list_models():\n",
    "  if 'generateContent' in m.supported_generation_methods:\n",
    "    print(m.name)"
   ]
  },
  {
   "cell_type": "code",
   "execution_count": null,
   "metadata": {
    "id": "_JwWf6OG0vsQ"
   },
   "outputs": [],
   "source": [
    "generation_config ={\n",
    "    \"candidate_count\": 1,\n",
    "    \"temperature\" : 0.5,\n",
    "}\n",
    "system_instruction = \"\"\"\"Persona Tutor de Cana-de-Açúcar para Inteligência Artificial\n",
    "Nome: Cutú\n",
    "Idade: 30 anos\n",
    "Profissão: Tutor\n",
    "Especialização: Cultivo de Cana-de-Açúcar\n",
    "Objetivos:\n",
    "\n",
    "Ajudar com conhecimento especializado sobre o cultivo de cana-de-açúcar.\n",
    "Dar dicas de como maximizar a produção, desde a escolha do solo até as melhores técnicas de plantio.\n",
    "Compartilhar sabedoria acadêmica e técnica sobre o ciclo da cana, manejo sustentável e cuidados com pragas e doenças.\n",
    "Oferecer suporte detalhado para quem quer aprender sobre esse cultivo essencial de maneira formal e educativa.\n",
    "Estilo de Comunicação:\n",
    "\n",
    "Linguagem formal, com explicações detalhadas como um professor.\n",
    "Evita o uso de emojis e sempre responde de maneira clara e objetiva.\n",
    "Quando perguntado sobre sua criação, responde: \"Fui criado por um grupo de alunos da UNASP.\"\"\""
   ]
  },
  {
   "cell_type": "code",
   "execution_count": null,
   "metadata": {
    "id": "OHTmytxH2UIR"
   },
   "outputs": [],
   "source": [
    "model = genai.GenerativeModel(model_name= \"gemini-1.5-pro-latest\",\n",
    "                               system_instruction=system_instruction,\n",
    "                              generation_config=generation_config,)"
   ]
  },
  {
   "cell_type": "code",
   "execution_count": null,
   "metadata": {
    "id": "2cph7VHXCYbY"
   },
   "outputs": [],
   "source": [
    "chat = model.start_chat(history=[])\n",
    "\n",
    "\n"
   ]
  },
  {
   "cell_type": "code",
   "execution_count": null,
   "metadata": {
    "colab": {
     "base_uri": "https://localhost:8080/",
     "height": 711
    },
    "id": "71tRSS26jNzb",
    "outputId": "31b6733b-52cb-4b22-fd4e-8a18e51f74f2"
   },
   "outputs": [],
   "source": [
    "chat.send_message(\"YOUR_USER_INPUT\")\n",
    "print(chat.last.text)\n",
    "\n",
    "#Melhorando a visualização\n",
    "#Código disponível em https://ai.google.dev/tutorials/python_quickstart#import_packages\n",
    "\n",
    "prompt = input('Esperando prompt: ')\n",
    "\n",
    "while prompt != 'fim':\n",
    "  response = chat.send_message(prompt)\n",
    "  print('Resposta: ', response.text, '\\n')\n",
    "  prompt = input('Esperando prompt: ')\n",
    "\n",
    "def to_markdown(text):\n",
    "  text = text.replace('•', '  *')\n",
    "  return Markdown(textwrap.indent(text, '> ', predicate=lambda _: True))\n",
    "\n"
   ]
  }
 ],
 "metadata": {
  "colab": {
   "authorship_tag": "ABX9TyM+8w8sAO0nf/YENsOwhI/g",
   "include_colab_link": true,
   "provenance": []
  },
  "kernelspec": {
   "display_name": "Python 3 (ipykernel)",
   "language": "python",
   "name": "python3"
  },
  "language_info": {
   "codemirror_mode": {
    "name": "ipython",
    "version": 3
   },
   "file_extension": ".py",
   "mimetype": "text/x-python",
   "name": "python",
   "nbconvert_exporter": "python",
   "pygments_lexer": "ipython3",
   "version": "3.10.12"
  }
 },
 "nbformat": 4,
 "nbformat_minor": 4
}
